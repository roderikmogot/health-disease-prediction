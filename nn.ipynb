{
 "cells": [
  {
   "cell_type": "code",
   "execution_count": 3,
   "metadata": {},
   "outputs": [],
   "source": [
    "import pandas as pd\n",
    "from sklearn.model_selection import train_test_split\n",
    "from sklearn.preprocessing import StandardScaler, LabelEncoder\n",
    "from tensorflow.keras.models import Sequential\n",
    "from tensorflow.keras.layers import Dense"
   ]
  },
  {
   "cell_type": "code",
   "execution_count": 25,
   "metadata": {},
   "outputs": [
    {
     "name": "stdout",
     "output_type": "stream",
     "text": [
      "Epoch 1/10\n"
     ]
    },
    {
     "name": "stderr",
     "output_type": "stream",
     "text": [
      "2023-10-08 23:23:11.275772: W tensorflow/tsl/platform/profile_utils/cpu_utils.cc:128] Failed to get CPU frequency: 0 Hz\n"
     ]
    },
    {
     "name": "stdout",
     "output_type": "stream",
     "text": [
      "2545/2545 [==============================] - 1s 456us/step - loss: 0.4394 - accuracy: 0.8108 - val_loss: 0.4321 - val_accuracy: 0.8097\n",
      "Epoch 2/10\n",
      "2545/2545 [==============================] - 1s 406us/step - loss: 0.4329 - accuracy: 0.8131 - val_loss: 0.4339 - val_accuracy: 0.8123\n",
      "Epoch 3/10\n",
      "2545/2545 [==============================] - 1s 412us/step - loss: 0.4323 - accuracy: 0.8136 - val_loss: 0.4303 - val_accuracy: 0.8125\n",
      "Epoch 4/10\n",
      "2545/2545 [==============================] - 1s 401us/step - loss: 0.4313 - accuracy: 0.8146 - val_loss: 0.4312 - val_accuracy: 0.8137\n",
      "Epoch 5/10\n",
      "2545/2545 [==============================] - 1s 404us/step - loss: 0.4310 - accuracy: 0.8151 - val_loss: 0.4310 - val_accuracy: 0.8132\n",
      "Epoch 6/10\n",
      "2545/2545 [==============================] - 1s 400us/step - loss: 0.4306 - accuracy: 0.8141 - val_loss: 0.4318 - val_accuracy: 0.8130\n",
      "Epoch 7/10\n",
      "2545/2545 [==============================] - 1s 420us/step - loss: 0.4307 - accuracy: 0.8152 - val_loss: 0.4301 - val_accuracy: 0.8133\n",
      "Epoch 8/10\n",
      "2545/2545 [==============================] - 1s 405us/step - loss: 0.4302 - accuracy: 0.8149 - val_loss: 0.4302 - val_accuracy: 0.8130\n",
      "Epoch 9/10\n",
      "2545/2545 [==============================] - 1s 399us/step - loss: 0.4302 - accuracy: 0.8142 - val_loss: 0.4324 - val_accuracy: 0.8132\n",
      "Epoch 10/10\n",
      "2545/2545 [==============================] - 1s 399us/step - loss: 0.4296 - accuracy: 0.8155 - val_loss: 0.4310 - val_accuracy: 0.8139\n",
      "637/637 [==============================] - 0s 261us/step - loss: 0.4310 - accuracy: 0.8139\n",
      "Accuracy: 0.8138849139213562\n"
     ]
    }
   ],
   "source": [
    "df = pd.read_csv('train.csv')\n",
    "\n",
    "X_train, X_test, y_train, y_test = train_test_split(df.drop(['defects', 'id'], axis=1), df['defects'], test_size=0.2, random_state=42)\n",
    "\n",
    "scaler = StandardScaler()\n",
    "X_train = scaler.fit_transform(X_train)\n",
    "X_test = scaler.transform(X_test)\n",
    "\n",
    "encoder = LabelEncoder()\n",
    "y_train = encoder.fit_transform(y_train)\n",
    "y_test = encoder.transform(y_test)\n",
    "\n",
    "model = Sequential([\n",
    "    Dense(64, activation='relu', input_shape=(X_train.shape[1],)),\n",
    "    Dense(32, activation='relu'),\n",
    "    Dense(1, activation='sigmoid')\n",
    "])\n",
    "\n",
    "model.compile(optimizer='adam', loss='binary_crossentropy', metrics=['accuracy'])\n",
    "model.fit(X_train, y_train, epochs=10, batch_size=32, validation_data=(X_test, y_test))\n",
    "\n",
    "loss, accuracy = model.evaluate(X_test, y_test)\n",
    "print(f'Accuracy: {accuracy}')"
   ]
  },
  {
   "cell_type": "code",
   "execution_count": 38,
   "metadata": {},
   "outputs": [
    {
     "name": "stdout",
     "output_type": "stream",
     "text": [
      "2121/2121 [==============================] - 1s 258us/step\n"
     ]
    }
   ],
   "source": [
    "test_df = pd.read_csv('test.csv')\n",
    "\n",
    "test_data = scaler.transform(test_df.drop('id', axis=1))\n",
    "\n",
    "predictions = model.predict(test_data)\n",
    "predictions = predictions.flatten()\n",
    "\n",
    "test_ids = test_df.pop('id')\n",
    "submission = pd.DataFrame({'id': test_ids, 'defects': pd.Series(predictions).to_list()})"
   ]
  }
 ],
 "metadata": {
  "kernelspec": {
   "display_name": "base",
   "language": "python",
   "name": "python3"
  },
  "language_info": {
   "codemirror_mode": {
    "name": "ipython",
    "version": 3
   },
   "file_extension": ".py",
   "mimetype": "text/x-python",
   "name": "python",
   "nbconvert_exporter": "python",
   "pygments_lexer": "ipython3",
   "version": "3.10.12"
  }
 },
 "nbformat": 4,
 "nbformat_minor": 2
}
